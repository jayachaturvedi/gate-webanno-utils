{
 "cells": [
  {
   "cell_type": "code",
   "execution_count": 1,
   "metadata": {},
   "outputs": [],
   "source": [
    "import zipfile\n",
    "import os\n",
    "from shutil import copyfile, rmtree"
   ]
  },
  {
   "cell_type": "code",
   "execution_count": 2,
   "metadata": {},
   "outputs": [
    {
     "name": "stdout",
     "output_type": "stream",
     "text": [
      "Directory  results  Created \n"
     ]
    }
   ],
   "source": [
    "dirName = 'results'\n",
    "if not os.path.exists(dirName):\n",
    "    os.mkdir(dirName)\n",
    "    print(\"Directory \" , dirName ,  \" Created \")\n",
    "else:    \n",
    "    print(\"Directory \" , dirName ,  \" already exists\")"
   ]
  },
  {
   "cell_type": "code",
   "execution_count": 3,
   "metadata": {},
   "outputs": [
    {
     "name": "stdout",
     "output_type": "stream",
     "text": [
      "Processing zip file:  Test_JC_curated_documents_2019-06-12_1504.zip\n"
     ]
    }
   ],
   "source": [
    "for file in os.listdir(\"./\"): # home of annotation\n",
    "    if file.endswith(\".zip\"):\n",
    "        unzip_file = file.replace('.zip', '')\n",
    "        print('Processing zip file: ', file)\n",
    "#         print(unzip_file)\n",
    "        zip_ref = zipfile.ZipFile(file, 'r')\n",
    "        zip_ref.extractall(unzip_file)\n",
    "        zip_ref.close()\n",
    "        \n",
    "        wkdir = \"./\" + unzip_file + '/curation/' \n",
    "#         print (wkdir)\n",
    "        for sub_file in os.listdir(wkdir): # individual annotion outcome, and use this as new of file \n",
    "            for zip_file in os.listdir(wkdir + '/' + sub_file):\n",
    "                if zip_file.endswith(\".zip\"):\n",
    "                    zip_ref = zipfile.ZipFile(wkdir + '/' + sub_file + '/' + zip_file, 'r')\n",
    "                    zip_ref.extractall(wkdir + '/' + sub_file)\n",
    "                    zip_ref.close()\n",
    "                    copyfile(wkdir + '/' + sub_file + '/CURATION_USER.xmi', dirName + '/' + sub_file +  '.xmi')\n",
    "        rmtree(unzip_file)      "
   ]
  },
  {
   "cell_type": "code",
   "execution_count": null,
   "metadata": {},
   "outputs": [],
   "source": []
  }
 ],
 "metadata": {
  "kernelspec": {
   "display_name": "Python 3",
   "language": "python",
   "name": "python3"
  },
  "language_info": {
   "codemirror_mode": {
    "name": "ipython",
    "version": 3
   },
   "file_extension": ".py",
   "mimetype": "text/x-python",
   "name": "python",
   "nbconvert_exporter": "python",
   "pygments_lexer": "ipython3",
   "version": "3.6.8"
  }
 },
 "nbformat": 4,
 "nbformat_minor": 2
}
